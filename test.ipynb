{
 "cells": [
  {
   "cell_type": "code",
   "execution_count": 1,
   "metadata": {},
   "outputs": [
    {
     "name": "stdout",
     "output_type": "stream",
     "text": [
      "Python 2.7.17\r\n"
     ]
    }
   ],
   "source": [
    "# Check Python 2 version\n",
    "!python -V"
   ]
  },
  {
   "cell_type": "code",
   "execution_count": 2,
   "metadata": {},
   "outputs": [
    {
     "name": "stdout",
     "output_type": "stream",
     "text": [
      "Python 3.6.9\r\n"
     ]
    }
   ],
   "source": [
    "# Check Python 3 version\n",
    "!python3 -V"
   ]
  },
  {
   "cell_type": "code",
   "execution_count": 3,
   "metadata": {},
   "outputs": [
    {
     "name": "stdout",
     "output_type": "stream",
     "text": [
      "total 56\r\n",
      "-rw-rw-r-- 1 root root 43101 Jul  5 13:24 first100sp.fasta\r\n",
      "-rw-rw-r-- 1 root root  3694 Jul  5 14:56 first10sp.fasta\r\n",
      "-rw-r--r-- 1 root root  4133 Jul  1 20:14 simple.fasta\r\n"
     ]
    }
   ],
   "source": [
    "# Check test dataset files\n",
    "!ls -l data"
   ]
  },
  {
   "cell_type": "code",
   "execution_count": 4,
   "metadata": {},
   "outputs": [],
   "source": [
    "# Dependencies\n",
    "import matplotlib.pyplot as plt\n",
    "from tqdm import tqdm\n",
    "import subprocess\n",
    "import tempfile\n",
    "import random\n",
    "import time\n",
    "import sys\n",
    "import os\n",
    "import re\n",
    "\n",
    "# Set random seed\n",
    "random.seed(42)\n",
    "\n",
    "# Configure plotting\n",
    "%matplotlib inline"
   ]
  },
  {
   "cell_type": "code",
   "execution_count": 5,
   "metadata": {},
   "outputs": [],
   "source": [
    "# Constants\n",
    "MOBIDB_PATH = '/usr/src/mobidb/mobidb_lite.py'  # Path to MobiDB lite\n",
    "DATA_PATH = '/usr/src/mobidb/dockertest/data'  # Path to test dataset"
   ]
  },
  {
   "cell_type": "code",
   "execution_count": 6,
   "metadata": {},
   "outputs": [],
   "source": [
    "def run_mobidb(in_path, out_path='', out_format=0, threads=0, cmd=MOBIDB_PATH, env=os.environ.copy()):\n",
    "    \"\"\"Run MobiDB Lite script\n",
    "    \n",
    "    Args\n",
    "    in_path (str)     Path to multi-fasta input file\n",
    "    out_path (str)    Path to output file, where results are stored (if set)\n",
    "    out_format (int)  Output format, define output detail. Setting it higher than 0 (default)\n",
    "                      will require othre dependencies to be correctly in place, rather than\n",
    "                      the default ones\n",
    "    cmd (str)         Command for executing MobiDB Lite script\n",
    "    threads (int)     Number of threads involved in disordered regions computation\n",
    "    env (dict)        Environmental variables (e.g. python path) which must be set in order\n",
    "                      to correctly run MobiDB Lite script\n",
    "    \"\"\"\n",
    "    # Call subprocess\n",
    "    return subprocess.run(\n",
    "        check=True,  # Check command execution\n",
    "        encoding='utf-8',  # Set stdout/stderr encoding\n",
    "        env=env,  # Set environmental variables\n",
    "        stdout=subprocess.PIPE,  # Capture stdout\n",
    "        stderr=subprocess.PIPE,  # Capture stderr\n",
    "        # cwd=cwd,  # Set working directory\n",
    "        # Command line arguments\n",
    "        args=[\n",
    "            # Run script with Python 3\n",
    "            'python3', cmd,\n",
    "            # Set output file format\n",
    "            '-f', '{:d}'.format(out_format),\n",
    "            # Set output file, if any\n",
    "            *(['-o', '{:s}'.format(out_path)] if out_path else []),\n",
    "            # Set number of threads, if any\n",
    "            *(['-t', '{:d}'.format(threads)] if threads else []),\n",
    "            # Set input file path\n",
    "            '{:s}'.format(in_path)\n",
    "        ]\n",
    "    )"
   ]
  },
  {
   "cell_type": "code",
   "execution_count": 7,
   "metadata": {},
   "outputs": [
    {
     "name": "stdout",
     "output_type": "stream",
     "text": [
      "MobiDB Lite succesfully completed\n",
      "stdout:\n",
      "\n",
      "stderr:\n",
      "2020-07-07 11:54:31,250 | predictor    | ERROR    | P37840 | seg crashed with error <No such file or directory: '/usr/src/mobidb/binx/seg/bin64/seg'>\n",
      "\n",
      "\n"
     ]
    }
   ],
   "source": [
    "try:\n",
    "    # Run MobiDB Lite\n",
    "    ran = run_mobidb(os.path.join(DATA_PATH, 'simple.fasta'))\n",
    "    # Check output\n",
    "    print('MobiDB Lite succesfully completed')\n",
    "    print('stdout:')\n",
    "    print(ran.stdout)\n",
    "    print('stderr:')\n",
    "    print(ran.stderr)\n",
    "    print()\n",
    "except subprocess.CalledProcessError as err:\n",
    "    # Show error\n",
    "    print('MobiDB Lite exited with code', err.returncode)\n",
    "    print('command:')\n",
    "    print(err.cmd)\n",
    "    print('stdout:')\n",
    "    print(err.stdout)\n",
    "    print('stderr:')\n",
    "    print(err.stderr)\n",
    "    print()"
   ]
  },
  {
   "cell_type": "code",
   "execution_count": 8,
   "metadata": {},
   "outputs": [],
   "source": [
    "# Define function for benchmarking an inner function\n",
    "def benchmark(fn, **kwargs):\n",
    "    \"\"\"Make benchmark of a function\n",
    "    \n",
    "    Args\n",
    "    fn (callable)    Function which must be tested\n",
    "    kwargs           Other arguments feeded to given function\n",
    "    \n",
    "    Return\n",
    "    (any)            Results taken from function execution\n",
    "    (float)          Number of seconds it took to execute\n",
    "    \"\"\"\n",
    "    # Initialize timers\n",
    "    time_beg, time_end = time.time(), None\n",
    "    \n",
    "    # Execute function with given parameters\n",
    "    result = fn(**kwargs)\n",
    "    \n",
    "    # Update timers\n",
    "    time_end = time.time()\n",
    "    # Return execution time\n",
    "    return result, float(time_end - time_beg)"
   ]
  },
  {
   "cell_type": "code",
   "execution_count": 9,
   "metadata": {},
   "outputs": [],
   "source": [
    "# Define ten random sequences samples\n",
    "\n",
    "# Initialize empty sequences list\n",
    "sequences = list()\n",
    "# Open sequences file\n",
    "with open(os.path.join(DATA_PATH, 'first100sp.fasta'), 'r') as file:\n",
    "    # Loop through each line in file\n",
    "    for line in file:\n",
    "        # Match header\n",
    "        is_header = re.search(r'^>', line)\n",
    "        # Case current line is header\n",
    "        if is_header:\n",
    "            # Store line as a new entry\n",
    "            sequences.append(line)\n",
    "        # Otherwise\n",
    "        else:\n",
    "            # Store line in last entry\n",
    "            sequences[-1] += line\n",
    "            \n",
    "# Shuffle sequences\n",
    "random.shuffle(sequences)"
   ]
  },
  {
   "cell_type": "code",
   "execution_count": 10,
   "metadata": {},
   "outputs": [
    {
     "name": "stderr",
     "output_type": "stream",
     "text": [
      "100%|██████████| 4/4 [00:18<00:00,  4.53s/it]\n",
      "100%|██████████| 4/4 [00:17<00:00,  4.34s/it]\n",
      "100%|██████████| 4/4 [00:23<00:00,  5.83s/it]\n",
      "100%|██████████| 4/4 [00:58<00:00, 14.59s/it]\n",
      "100%|██████████| 4/4 [00:57<00:00, 14.36s/it]\n",
      "100%|██████████| 4/4 [00:17<00:00,  4.49s/it]\n",
      "100%|██████████| 4/4 [00:58<00:00, 14.52s/it]\n",
      "100%|██████████| 4/4 [00:28<00:00,  7.22s/it]\n",
      "100%|██████████| 4/4 [00:17<00:00,  4.45s/it]\n",
      "100%|██████████| 4/4 [00:30<00:00,  7.56s/it]\n"
     ]
    }
   ],
   "source": [
    "# Define list of \"number of threads\" parameters\n",
    "threads = [1, 10, 20, 100]\n",
    "\n",
    "# Define batch size\n",
    "batch_size = 10\n",
    "\n",
    "# Initialize time took dict(batch: list of times)\n",
    "time_took = dict()\n",
    "\n",
    "# Try benchmarking of MobiDB Lite predictor with given number of threads\n",
    "try:\n",
    "    \n",
    "    # Do for each sequences batch\n",
    "    for i in range(0, len(sequences), batch_size):\n",
    "        # Define current sequences batch\n",
    "        batch = sequences[i:min(len(sequences), i+batch_size)]\n",
    "        # Define new temporary input file\n",
    "        in_file = tempfile.NamedTemporaryFile(suffix='.fasta', delete=False)\n",
    "        # Write sequences in temporary file\n",
    "        with open(in_file.name, 'w') as f:\n",
    "            # Write each sequence\n",
    "            f.write('\\n'.join(batch))\n",
    "        # Loop through each number of thread\n",
    "        for j in tqdm(range(len(threads))):\n",
    "                # Run MobiDB Lite\n",
    "                ran, sec = benchmark(\n",
    "                    fn=run_mobidb,  # Tested function\n",
    "                    cmd=MOBIDB_PATH,  # MobiBD Lite executable path\n",
    "                    in_path=in_file.name,  # Current batch file\n",
    "                    # out_path=os.path.join(DATA_PATH, 'out{:d}'.format(i)),  # Output file\n",
    "                    out_format=0,  # Output format\n",
    "                    threads=threads[j]  # Number of threads\n",
    "                )\n",
    "                # Initialize batches dictionary\n",
    "                time_took.setdefault(i, list())\n",
    "                # Save time took\n",
    "                time_took.get(i).append(sec)\n",
    "\n",
    "        # Delete temporary file\n",
    "        os.remove(in_file.name)\n",
    "    \n",
    "# Capture eventual errors\n",
    "except subprocess.CalledProcessError as err:\n",
    "    # Show error\n",
    "    print('MobiDB Lite exited with code', err.returncode)\n",
    "    print(err.stderr)"
   ]
  },
  {
   "cell_type": "code",
   "execution_count": 11,
   "metadata": {},
   "outputs": [
    {
     "data": {
      "image/png": "[encoded data removed]",
      "text/plain": [
       "<Figure size 720x360 with 1 Axes>"
      ]
     },
     "metadata": {
      "needs_background": "light"
     },
     "output_type": "display_data"
    }
   ],
   "source": [
    "# Plot results\n",
    "fig, ax = plt.subplots(1, 1, figsize=(10, 5))\n",
    "\n",
    "# Initialize plot\n",
    "ax.set_title('Execution time vs. number of threads')\n",
    "ax.set_xlabel('Number of threads')\n",
    "ax.set_ylabel('Execution time (sec)')\n",
    "\n",
    "# Loop through all the batches\n",
    "for i in time_took.keys():\n",
    "    # Set y axis\n",
    "    y = [time_took[i][j] for j in range(len(threads))]\n",
    "    # Set x values\n",
    "    x = [threads[j] for j in range(len(threads))]\n",
    "    # Make plot\n",
    "    ax.plot(x, y, '.')\n",
    "# Show legend\n",
    "ax.legend(['batch #{:d}'.format(i+1) for i in range(10)])\n",
    "\n",
    "# Show plot\n",
    "plt.show()"
   ]
  },
  {
   "cell_type": "code",
   "execution_count": null,
   "metadata": {},
   "outputs": [],
   "source": []
  }
 ],
 "metadata": {
  "kernelspec": {
   "display_name": "Python 3",
   "language": "python",
   "name": "python3"
  },
  "language_info": {
   "codemirror_mode": {
    "name": "ipython",
    "version": 3
   },
   "file_extension": ".py",
   "mimetype": "text/x-python",
   "name": "python",
   "nbconvert_exporter": "python",
   "pygments_lexer": "ipython3",
   "version": "3.6.9"
  }
 },
 "nbformat": 4,
 "nbformat_minor": 4
}
